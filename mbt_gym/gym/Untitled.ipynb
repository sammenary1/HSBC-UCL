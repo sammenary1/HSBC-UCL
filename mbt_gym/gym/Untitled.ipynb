{
 "cells": [
  {
   "cell_type": "code",
   "execution_count": 25,
   "id": "e4f36801",
   "metadata": {},
   "outputs": [],
   "source": [
    "n = '8643'"
   ]
  },
  {
   "cell_type": "code",
   "execution_count": 7,
   "id": "a1c1d8af",
   "metadata": {},
   "outputs": [],
   "source": [
    "k = int(n)"
   ]
  },
  {
   "cell_type": "code",
   "execution_count": 8,
   "id": "ababbe06",
   "metadata": {},
   "outputs": [
    {
     "data": {
      "text/plain": [
       "8643"
      ]
     },
     "execution_count": 8,
     "metadata": {},
     "output_type": "execute_result"
    }
   ],
   "source": [
    "k"
   ]
  },
  {
   "cell_type": "code",
   "execution_count": 23,
   "id": "a1bd86bc",
   "metadata": {},
   "outputs": [],
   "source": [
    "res = [int(x) for x in str(num)]"
   ]
  },
  {
   "cell_type": "code",
   "execution_count": 24,
   "id": "6030ec69",
   "metadata": {},
   "outputs": [
    {
     "data": {
      "text/plain": [
       "[8, 6, 4, 3]"
      ]
     },
     "execution_count": 24,
     "metadata": {},
     "output_type": "execute_result"
    }
   ],
   "source": [
    "res"
   ]
  },
  {
   "cell_type": "code",
   "execution_count": 26,
   "id": "8b3a8b9b",
   "metadata": {},
   "outputs": [
    {
     "data": {
      "text/plain": [
       "[8, 6, 4, 3]"
      ]
     },
     "execution_count": 26,
     "metadata": {},
     "output_type": "execute_result"
    }
   ],
   "source": [
    "[int(x) for x in n]"
   ]
  },
  {
   "cell_type": "code",
   "execution_count": 29,
   "id": "0c9f86f8",
   "metadata": {},
   "outputs": [],
   "source": [
    "def superDigit(n, k):\n",
    "    if len(n) == 1:\n",
    "        return n\n",
    "    else:\n",
    "        sm = sum([int(x) for x in superDigit(n,k-1)])\n",
    "        return sm"
   ]
  },
  {
   "cell_type": "code",
   "execution_count": null,
   "id": "e6af0f2a",
   "metadata": {},
   "outputs": [],
   "source": []
  },
  {
   "cell_type": "code",
   "execution_count": 2,
   "id": "402b83b1",
   "metadata": {},
   "outputs": [],
   "source": [
    "n = '5325'"
   ]
  },
  {
   "cell_type": "code",
   "execution_count": 3,
   "id": "3cbe22d2",
   "metadata": {},
   "outputs": [
    {
     "name": "stdout",
     "output_type": "stream",
     "text": [
      "5\n",
      "3\n",
      "2\n",
      "5\n"
     ]
    }
   ],
   "source": [
    "for num in n:\n",
    "    print(num)"
   ]
  },
  {
   "cell_type": "code",
   "execution_count": null,
   "id": "aee7a58c",
   "metadata": {},
   "outputs": [],
   "source": []
  },
  {
   "cell_type": "code",
   "execution_count": 5,
   "id": "35f1510c",
   "metadata": {},
   "outputs": [
    {
     "name": "stdout",
     "output_type": "stream",
     "text": [
      "0\n",
      "1\n",
      "2\n",
      "3\n",
      "4\n"
     ]
    }
   ],
   "source": [
    "for i in range(5):\n",
    "    print(i)"
   ]
  },
  {
   "cell_type": "code",
   "execution_count": 28,
   "id": "17db371d",
   "metadata": {},
   "outputs": [],
   "source": [
    "q = [1,2,5,3 ,7, 8 ,6 ,4]"
   ]
  },
  {
   "cell_type": "code",
   "execution_count": 30,
   "id": "4aa2d3f0",
   "metadata": {},
   "outputs": [
    {
     "name": "stdout",
     "output_type": "stream",
     "text": [
      "Too chaotic\n",
      "4.0\n"
     ]
    }
   ],
   "source": [
    "error = 0\n",
    "for i, n in enumerate(q):\n",
    "    if n != i+1:\n",
    "        diff = abs(n-(i+1))\n",
    "        if diff > 3: \n",
    "            print('Too chaotic')\n",
    "        else:\n",
    "            error += diff\n",
    "print(error/2)"
   ]
  },
  {
   "cell_type": "code",
   "execution_count": 20,
   "id": "93b307b2",
   "metadata": {},
   "outputs": [
    {
     "data": {
      "text/plain": [
       "1.0"
      ]
     },
     "execution_count": 20,
     "metadata": {},
     "output_type": "execute_result"
    }
   ],
   "source": [
    "program([1,2,3,5,4,6,7,8])"
   ]
  },
  {
   "cell_type": "code",
   "execution_count": 38,
   "id": "cddd5c8e",
   "metadata": {},
   "outputs": [],
   "source": [
    "x = [1,2,5,3,4]\n",
    "x.sort()\n",
    "pri"
   ]
  },
  {
   "cell_type": "code",
   "execution_count": 32,
   "id": "b08ce43f",
   "metadata": {},
   "outputs": [],
   "source": [
    "x = 56.43353535\n",
    "x.5f"
   ]
  },
  {
   "cell_type": "code",
   "execution_count": 33,
   "id": "9e1910df",
   "metadata": {},
   "outputs": [
    {
     "ename": "SyntaxError",
     "evalue": "invalid syntax (3207111227.py, line 1)",
     "output_type": "error",
     "traceback": [
      "\u001b[1;36m  File \u001b[1;32m\"C:\\Users\\samme\\AppData\\Local\\Temp\\ipykernel_44240\\3207111227.py\"\u001b[1;36m, line \u001b[1;32m1\u001b[0m\n\u001b[1;33m    x.5f\u001b[0m\n\u001b[1;37m     ^\u001b[0m\n\u001b[1;31mSyntaxError\u001b[0m\u001b[1;31m:\u001b[0m invalid syntax\n"
     ]
    }
   ],
   "source": [
    "x.5f"
   ]
  },
  {
   "cell_type": "code",
   "execution_count": null,
   "id": "ae949059",
   "metadata": {},
   "outputs": [],
   "source": []
  }
 ],
 "metadata": {
  "kernelspec": {
   "display_name": "Python 3 (ipykernel)",
   "language": "python",
   "name": "python3"
  },
  "language_info": {
   "codemirror_mode": {
    "name": "ipython",
    "version": 3
   },
   "file_extension": ".py",
   "mimetype": "text/x-python",
   "name": "python",
   "nbconvert_exporter": "python",
   "pygments_lexer": "ipython3",
   "version": "3.9.13"
  }
 },
 "nbformat": 4,
 "nbformat_minor": 5
}
